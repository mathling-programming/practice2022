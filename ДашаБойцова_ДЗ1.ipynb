{
  "nbformat": 4,
  "nbformat_minor": 0,
  "metadata": {
    "colab": {
      "provenance": []
    },
    "kernelspec": {
      "name": "python3",
      "display_name": "Python 3"
    },
    "language_info": {
      "name": "python"
    }
  },
  "cells": [
    {
      "cell_type": "code",
      "source": [
        "import math\n",
        "\n",
        "def draw_func(function, min_range: float = -10.0, max_range: float = 10.0, delta: float = 1.0):\n",
        "    full_range = int(max_range - min_range)\n",
        "    results = []\n",
        "    xes = []\n",
        "    cut = []\n",
        "    for i in range(int((full_range) / delta) + 1): # собираем списки иксов и греков с интервалом в d\n",
        "        try:\n",
        "            results.append(function(min_range + i * delta))\n",
        "            xes.append(min_range + i * delta)\n",
        "        except:\n",
        "            cut.append(min_range + i * delta)\n",
        "\n",
        "    min_range_y = min(results)\n",
        "    max_range_y = max(results)\n",
        "    results_sorted = sorted(results)\n",
        "    min_shift = abs(results_sorted[1] - results_sorted[0])\n",
        "    for num, i in enumerate(results_sorted[1:]):\n",
        "        min_shift = min(min_shift, abs(i - results_sorted[num - 1]))\n",
        "    epsilon = 0.000005 \n",
        "    k_range = math.ceil((max_range_y - min_range_y) / delta)\n",
        "    last_line = ' ' * int(full_range / delta) \n",
        "    round_range = 0 if float(int(delta)) == delta else abs(str(delta).find('.') - len(str(delta))) - 1\n",
        "    \n",
        "    lines = []\n",
        "    for k in range(k_range + 1): \n",
        "        this_line_objects = []\n",
        "        for number, n in enumerate(results):\n",
        "            \n",
        "            predict = k * delta - k_range / 2 * delta + (min_range_y + max_range_y) / 2\n",
        "            \n",
        "            if - 1 * epsilon < round(predict, round_range) - round(n, round_range) < epsilon:\n",
        "                symbol = '*' \n",
        "                try:\n",
        "                    r = function(xes[number] - delta)\n",
        "                    l = function(xes[number] + delta)\n",
        "                    if abs((function(xes[number] - delta) - n) / delta) < 0.1:\n",
        "                        symbol = '*'\n",
        "                    elif function(xes[number] - delta) < n and function(xes[number] + delta) > n:\n",
        "                        if abs((function(xes[number] + delta) - n) / delta) > 10:\n",
        "                            symbol = '*' \n",
        "                        else:\n",
        "                            symbol = '*' \n",
        "                    elif function(xes[number] - delta) > n and function(xes[number] + delta) < n:\n",
        "                            symbol = r'*' \n",
        "                except: \n",
        "                       symbol = '0'        \n",
        "                this_line_objects.append((int((xes[number] - min_range) / delta), symbol))    \n",
        "                 \n",
        "        new_line = ' ' * int(full_range / delta)\n",
        "       \n",
        "        for items in this_line_objects:\n",
        "            new_line = new_line[:items[0]] + items[1] + new_line[items[0]:]\n",
        "            last_line = new_line\n",
        "        if new_line == ' ' * int(full_range / delta):\n",
        "            new_line = last_line\n",
        "        lines.append(new_line) \n",
        "\n",
        "    for line in lines[::-1]: \n",
        "        print(line)\n",
        "\n",
        "  \n",
        "print(draw_func(function=lambda x: math.sin(x), min_range= -10, max_range = 10, delta = 0.1))\n",
        "\n"
      ],
      "metadata": {
        "colab": {
          "base_uri": "https://localhost:8080/"
        },
        "id": "03UixENBjuv-",
        "outputId": "96b08379-ec77-4ca1-9312-7149afb8d7d7"
      },
      "execution_count": null,
      "outputs": [
        {
          "output_type": "stream",
          "name": "stdout",
          "text": [
            "                                                  *******                                                        ******                                                         ******                                     \n",
            "                                                **       **                                                    **      ***                                                   ***     * **                              \n",
            "                                              **           **                                                **           *                                                *             *                       \n",
            "                                             *               *                                              *              **                                             **              **                     \n",
            "                                          * *                 *                                           **                 *                                           *                  *                   \n",
            "**                                        *                    *                                         *                    *                                         *                    *                  \n",
            " *                                       *                      **                                      *                      *                                      *                       *                 \n",
            "   *                                    *                         *                                    *                        *                                     *                        *               \n",
            "    *                                  *                           *                                  *                          *                                   *                          *              \n",
            "     *                                *                             *                                *                            *                                 *                            *             \n",
            "     *                               *                               *                              *                              *                               *                              *            \n",
            "      *                            *                                  *                            *                                *                            *                                 *           \n",
            "        *                          *                                   *                          *                                  *                           *                                  *          \n",
            "         *                        *                                     *                        *                                    *                         *                                    *         \n",
            "          *                      *                                       *                      *                                      **                      *                                      *         \n",
            "          *                     *                                         *                    *                                         *                    *                                        **       \n",
            "           *                  *                                            *                 **                                           *                 **                                                  \n",
            "             **              **                                             **              *                                              *               *                                                     \n",
            "               *            *                                                 *           **                                                **           **                                                      \n",
            "               ** *      ***                                                   ***      **                                                    **       **                                                              \n",
            "                   ******                                                         ******                                                        *******                                                                    \n",
            "None\n"
          ]
        }
      ]
    }
  ]
}