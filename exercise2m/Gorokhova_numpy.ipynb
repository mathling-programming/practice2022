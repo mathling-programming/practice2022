{
  "nbformat": 4,
  "nbformat_minor": 0,
  "metadata": {
    "colab": {
      "provenance": []
    },
    "kernelspec": {
      "name": "python3",
      "display_name": "Python 3"
    },
    "language_info": {
      "name": "python"
    }
  },
  "cells": [
    {
      "cell_type": "code",
      "execution_count": 2,
      "metadata": {
        "id": "geL-Qw1A0bZq"
      },
      "outputs": [],
      "source": [
        "import pandas as pd\n",
        "import numpy as np"
      ]
    },
    {
      "cell_type": "code",
      "source": [
        "#открылось что-то странное\n",
        "df = pd.read_csv ('https://raw.githubusercontent.com/mathling-programming/practice2022/main/exercise2m/sample.csv',  sep= '\\t')\n",
        "df"
      ],
      "metadata": {
        "colab": {
          "base_uri": "https://localhost:8080/",
          "height": 411
        },
        "id": "0tMbdWpV0fOx",
        "outputId": "0a9f14c1-0d62-4fdd-ff1e-03f7123acb8c"
      },
      "execution_count": null,
      "outputs": [
        {
          "output_type": "execute_result",
          "data": {
            "text/plain": [
              "                                          # Sample data\n",
              "0     5.562520486164440854e+02,3.687894902108730548e...\n",
              "1     8.256913538581953844e+02,2.071550210545871664e...\n",
              "2     2.250452273573475566e+02,8.999226141145671818e...\n",
              "3     7.616185037813037297e+02,9.614756936859930647e...\n",
              "4     4.524781044052792254e+02,4.526231065117344201e...\n",
              "...                                                 ...\n",
              "9995  1.651652874916282769e+02,3.623436105958754752e...\n",
              "9996  9.758836313027243250e+02,7.246644617938175088e...\n",
              "9997  1.663857361789752360e+02,6.349943089847001829e...\n",
              "9998  2.215412548584055799e+02,1.933287572594707342e...\n",
              "9999  7.310211435090312762e+02,8.290525924496167818e...\n",
              "\n",
              "[10000 rows x 1 columns]"
            ],
            "text/html": [
              "\n",
              "  <div id=\"df-43671a15-5db6-46c2-8c90-9d8d0d51bc4d\">\n",
              "    <div class=\"colab-df-container\">\n",
              "      <div>\n",
              "<style scoped>\n",
              "    .dataframe tbody tr th:only-of-type {\n",
              "        vertical-align: middle;\n",
              "    }\n",
              "\n",
              "    .dataframe tbody tr th {\n",
              "        vertical-align: top;\n",
              "    }\n",
              "\n",
              "    .dataframe thead th {\n",
              "        text-align: right;\n",
              "    }\n",
              "</style>\n",
              "<table border=\"1\" class=\"dataframe\">\n",
              "  <thead>\n",
              "    <tr style=\"text-align: right;\">\n",
              "      <th></th>\n",
              "      <th># Sample data</th>\n",
              "    </tr>\n",
              "  </thead>\n",
              "  <tbody>\n",
              "    <tr>\n",
              "      <th>0</th>\n",
              "      <td>5.562520486164440854e+02,3.687894902108730548e...</td>\n",
              "    </tr>\n",
              "    <tr>\n",
              "      <th>1</th>\n",
              "      <td>8.256913538581953844e+02,2.071550210545871664e...</td>\n",
              "    </tr>\n",
              "    <tr>\n",
              "      <th>2</th>\n",
              "      <td>2.250452273573475566e+02,8.999226141145671818e...</td>\n",
              "    </tr>\n",
              "    <tr>\n",
              "      <th>3</th>\n",
              "      <td>7.616185037813037297e+02,9.614756936859930647e...</td>\n",
              "    </tr>\n",
              "    <tr>\n",
              "      <th>4</th>\n",
              "      <td>4.524781044052792254e+02,4.526231065117344201e...</td>\n",
              "    </tr>\n",
              "    <tr>\n",
              "      <th>...</th>\n",
              "      <td>...</td>\n",
              "    </tr>\n",
              "    <tr>\n",
              "      <th>9995</th>\n",
              "      <td>1.651652874916282769e+02,3.623436105958754752e...</td>\n",
              "    </tr>\n",
              "    <tr>\n",
              "      <th>9996</th>\n",
              "      <td>9.758836313027243250e+02,7.246644617938175088e...</td>\n",
              "    </tr>\n",
              "    <tr>\n",
              "      <th>9997</th>\n",
              "      <td>1.663857361789752360e+02,6.349943089847001829e...</td>\n",
              "    </tr>\n",
              "    <tr>\n",
              "      <th>9998</th>\n",
              "      <td>2.215412548584055799e+02,1.933287572594707342e...</td>\n",
              "    </tr>\n",
              "    <tr>\n",
              "      <th>9999</th>\n",
              "      <td>7.310211435090312762e+02,8.290525924496167818e...</td>\n",
              "    </tr>\n",
              "  </tbody>\n",
              "</table>\n",
              "<p>10000 rows × 1 columns</p>\n",
              "</div>\n",
              "      <button class=\"colab-df-convert\" onclick=\"convertToInteractive('df-43671a15-5db6-46c2-8c90-9d8d0d51bc4d')\"\n",
              "              title=\"Convert this dataframe to an interactive table.\"\n",
              "              style=\"display:none;\">\n",
              "        \n",
              "  <svg xmlns=\"http://www.w3.org/2000/svg\" height=\"24px\"viewBox=\"0 0 24 24\"\n",
              "       width=\"24px\">\n",
              "    <path d=\"M0 0h24v24H0V0z\" fill=\"none\"/>\n",
              "    <path d=\"M18.56 5.44l.94 2.06.94-2.06 2.06-.94-2.06-.94-.94-2.06-.94 2.06-2.06.94zm-11 1L8.5 8.5l.94-2.06 2.06-.94-2.06-.94L8.5 2.5l-.94 2.06-2.06.94zm10 10l.94 2.06.94-2.06 2.06-.94-2.06-.94-.94-2.06-.94 2.06-2.06.94z\"/><path d=\"M17.41 7.96l-1.37-1.37c-.4-.4-.92-.59-1.43-.59-.52 0-1.04.2-1.43.59L10.3 9.45l-7.72 7.72c-.78.78-.78 2.05 0 2.83L4 21.41c.39.39.9.59 1.41.59.51 0 1.02-.2 1.41-.59l7.78-7.78 2.81-2.81c.8-.78.8-2.07 0-2.86zM5.41 20L4 18.59l7.72-7.72 1.47 1.35L5.41 20z\"/>\n",
              "  </svg>\n",
              "      </button>\n",
              "      \n",
              "  <style>\n",
              "    .colab-df-container {\n",
              "      display:flex;\n",
              "      flex-wrap:wrap;\n",
              "      gap: 12px;\n",
              "    }\n",
              "\n",
              "    .colab-df-convert {\n",
              "      background-color: #E8F0FE;\n",
              "      border: none;\n",
              "      border-radius: 50%;\n",
              "      cursor: pointer;\n",
              "      display: none;\n",
              "      fill: #1967D2;\n",
              "      height: 32px;\n",
              "      padding: 0 0 0 0;\n",
              "      width: 32px;\n",
              "    }\n",
              "\n",
              "    .colab-df-convert:hover {\n",
              "      background-color: #E2EBFA;\n",
              "      box-shadow: 0px 1px 2px rgba(60, 64, 67, 0.3), 0px 1px 3px 1px rgba(60, 64, 67, 0.15);\n",
              "      fill: #174EA6;\n",
              "    }\n",
              "\n",
              "    [theme=dark] .colab-df-convert {\n",
              "      background-color: #3B4455;\n",
              "      fill: #D2E3FC;\n",
              "    }\n",
              "\n",
              "    [theme=dark] .colab-df-convert:hover {\n",
              "      background-color: #434B5C;\n",
              "      box-shadow: 0px 1px 3px 1px rgba(0, 0, 0, 0.15);\n",
              "      filter: drop-shadow(0px 1px 2px rgba(0, 0, 0, 0.3));\n",
              "      fill: #FFFFFF;\n",
              "    }\n",
              "  </style>\n",
              "\n",
              "      <script>\n",
              "        const buttonEl =\n",
              "          document.querySelector('#df-43671a15-5db6-46c2-8c90-9d8d0d51bc4d button.colab-df-convert');\n",
              "        buttonEl.style.display =\n",
              "          google.colab.kernel.accessAllowed ? 'block' : 'none';\n",
              "\n",
              "        async function convertToInteractive(key) {\n",
              "          const element = document.querySelector('#df-43671a15-5db6-46c2-8c90-9d8d0d51bc4d');\n",
              "          const dataTable =\n",
              "            await google.colab.kernel.invokeFunction('convertToInteractive',\n",
              "                                                     [key], {});\n",
              "          if (!dataTable) return;\n",
              "\n",
              "          const docLinkHtml = 'Like what you see? Visit the ' +\n",
              "            '<a target=\"_blank\" href=https://colab.research.google.com/notebooks/data_table.ipynb>data table notebook</a>'\n",
              "            + ' to learn more about interactive tables.';\n",
              "          element.innerHTML = '';\n",
              "          dataTable['output_type'] = 'display_data';\n",
              "          await google.colab.output.renderOutput(dataTable, element);\n",
              "          const docLink = document.createElement('div');\n",
              "          docLink.innerHTML = docLinkHtml;\n",
              "          element.appendChild(docLink);\n",
              "        }\n",
              "      </script>\n",
              "    </div>\n",
              "  </div>\n",
              "  "
            ]
          },
          "metadata": {},
          "execution_count": 26
        }
      ]
    },
    {
      "cell_type": "code",
      "source": [
        "#второй вариант\n",
        "df = np.genfromtxt('https://raw.githubusercontent.com/mathling-programming/practice2022/main/exercise2m/sample.csv', delimiter=',', skip_header=1)\n",
        "#возвращает массив, считанный из файла\n",
        "df"
      ],
      "metadata": {
        "colab": {
          "base_uri": "https://localhost:8080/"
        },
        "id": "k_ojArhj1jhg",
        "outputId": "9e7269a6-c461-4051-89ca-bcac2f95447c"
      },
      "execution_count": 16,
      "outputs": [
        {
          "output_type": "execute_result",
          "data": {
            "text/plain": [
              "array([[556.25204862, 368.78949021, 354.06059711, ..., 340.03413915,\n",
              "        759.33936397, 595.54906505],\n",
              "       [825.69135386, 207.15502105, 113.48800391, ..., 808.06037246,\n",
              "         49.07588663,  24.67801906],\n",
              "       [225.04522736, 899.92261411, 672.08736477, ..., 280.67671352,\n",
              "        414.8141431 , 550.56728211],\n",
              "       ...,\n",
              "       [166.38573618, 634.99430898, 554.97806091, ..., 187.2714981 ,\n",
              "        312.01718305, 176.58642322],\n",
              "       [221.54125486, 193.32875726, 970.16990676, ...,  75.80406886,\n",
              "        653.58118857, 630.44493794],\n",
              "       [731.02114351, 829.05259245, 766.32542181, ..., 803.11236784,\n",
              "        708.44619508, 524.64086715]])"
            ]
          },
          "metadata": {},
          "execution_count": 16
        }
      ]
    },
    {
      "cell_type": "code",
      "source": [
        "num = 0 #нумерация строк\n",
        "result = np.empty(shape=[0, 3]) #пустая матрица для записи результатов\n",
        "#https://stackoverflow.com/questions/568962/how-do-i-create-an-empty-array-and-then-append-to-it-in-numpy\n",
        "\n",
        "for i in df[:,]: #все строчки в массиве\n",
        "  num += 1 #считаем строчки в массиве\n",
        "  mean = np.mean(i) #арифметическое среднее\n",
        "  std = np.std(i) #среднеквадратичное отклонение\n",
        "\n",
        "  if std < 250: #строки со среднеквадратичным отклонением меньше 250\n",
        "    result = np.append(result, np.array([[num, mean, std]]), axis=0) #пополняем номером строки, средним, среднеквадратичным; обозначаем ось\n",
        "\n",
        "print(result)  "
      ],
      "metadata": {
        "colab": {
          "base_uri": "https://localhost:8080/"
        },
        "id": "kuszqW3L3VZP",
        "outputId": "20f248b5-1fdf-4375-9551-9d9361e5f926"
      },
      "execution_count": 17,
      "outputs": [
        {
          "output_type": "stream",
          "name": "stdout",
          "text": [
            "[[ 130.          496.80431767  249.39333383]\n",
            " [1380.          468.63313644  246.86983032]\n",
            " [1542.          518.9311636   241.28790697]\n",
            " [1839.          506.03440045  244.47839358]\n",
            " [2917.          456.47080409  244.59411095]\n",
            " [3411.          514.375227    243.18450599]\n",
            " [3556.          571.4821826   249.29582101]\n",
            " [3604.          466.08394861  247.2685776 ]\n",
            " [3823.          503.57595506  238.76853318]\n",
            " [4102.          481.92328233  238.07662388]\n",
            " [4149.          485.07220222  248.85098666]\n",
            " [4285.          447.41639528  248.59076459]\n",
            " [4351.          461.4737511   247.28303079]\n",
            " [4558.          472.25844117  247.33420758]\n",
            " [4861.          497.50829821  241.45579774]\n",
            " [5106.          551.67423034  245.97923256]\n",
            " [5693.          523.17584725  243.33756   ]\n",
            " [6292.          538.23833912  240.58904694]\n",
            " [6525.          506.40614679  246.04283179]\n",
            " [7140.          551.41421905  245.06458916]\n",
            " [8097.          504.22961766  248.61282065]\n",
            " [8303.          437.78740512  232.64042596]\n",
            " [8688.          561.95741334  248.77199224]\n",
            " [8828.          548.8085432   245.60978108]\n",
            " [8986.          494.36978309  249.81080564]\n",
            " [9088.          498.06390162  247.11564539]\n",
            " [9224.          492.44381637  248.42281564]\n",
            " [9432.          509.43060894  248.47057986]\n",
            " [9912.          508.62010946  244.12664564]]\n"
          ]
        }
      ]
    },
    {
      "cell_type": "code",
      "source": [
        "#fmt= %[flag]width[.precision]specifier\n",
        "#precision -- количество цифр после запятой для записи вещественных чисел (например, e, E, f);\n",
        "#https://pyprog.pro/io_functions/savetxt.html?ysclid=lfuxrt4mid36138291 \n",
        "\n",
        "np.savetxt('output.txt', result, fmt='%.2f', delimiter='\\t')\n",
        "\n",
        "#некрасиво, что номер строки тоже указывается с цифрами после запятой, но я не нашла как убрать только для одного столбца"
      ],
      "metadata": {
        "id": "VbGJ0Qqk7qm9"
      },
      "execution_count": 18,
      "outputs": []
    }
  ]
}