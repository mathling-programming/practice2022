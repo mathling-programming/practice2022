{
 "cells": [
  {
   "cell_type": "code",
   "execution_count": 1,
   "id": "83fd5421",
   "metadata": {},
   "outputs": [],
   "source": [
    "import numpy as np"
   ]
  },
  {
   "cell_type": "code",
   "execution_count": 2,
   "id": "b7f14f3e",
   "metadata": {},
   "outputs": [
    {
     "data": {
      "text/plain": [
       "array([[556.25204862, 368.78949021, 354.06059711, ..., 340.03413915,\n",
       "        759.33936397, 595.54906505],\n",
       "       [825.69135386, 207.15502105, 113.48800391, ..., 808.06037246,\n",
       "         49.07588663,  24.67801906],\n",
       "       [225.04522736, 899.92261411, 672.08736477, ..., 280.67671352,\n",
       "        414.8141431 , 550.56728211],\n",
       "       ...,\n",
       "       [166.38573618, 634.99430898, 554.97806091, ..., 187.2714981 ,\n",
       "        312.01718305, 176.58642322],\n",
       "       [221.54125486, 193.32875726, 970.16990676, ...,  75.80406886,\n",
       "        653.58118857, 630.44493794],\n",
       "       [731.02114351, 829.05259245, 766.32542181, ..., 803.11236784,\n",
       "        708.44619508, 524.64086715]])"
      ]
     },
     "execution_count": 2,
     "metadata": {},
     "output_type": "execute_result"
    }
   ],
   "source": [
    "file = np.genfromtxt('sample.csv', delimiter=',', skip_header=1)\n",
    "file"
   ]
  },
  {
   "cell_type": "code",
   "execution_count": 3,
   "id": "56e9d5a7",
   "metadata": {},
   "outputs": [
    {
     "data": {
      "text/plain": [
       "array([549.90549026, 454.55478538, 491.39573877, ..., 515.53768957,\n",
       "       538.22819532, 498.67233238])"
      ]
     },
     "execution_count": 3,
     "metadata": {},
     "output_type": "execute_result"
    }
   ],
   "source": [
    "a1 = np.mean(file, axis=1)\n",
    "a1"
   ]
  },
  {
   "cell_type": "code",
   "execution_count": 4,
   "id": "c2312655",
   "metadata": {},
   "outputs": [
    {
     "data": {
      "text/plain": [
       "array([271.19701109, 311.47028202, 281.83971392, ..., 288.40530063,\n",
       "       279.70263441, 296.63114126])"
      ]
     },
     "execution_count": 4,
     "metadata": {},
     "output_type": "execute_result"
    }
   ],
   "source": [
    "a2 = np.std(file, axis=1)\n",
    "a2"
   ]
  },
  {
   "cell_type": "code",
   "execution_count": 5,
   "id": "fb2738f7",
   "metadata": {},
   "outputs": [],
   "source": [
    "a3 = np.array(range(1, len(file) + 1))"
   ]
  },
  {
   "cell_type": "code",
   "execution_count": 6,
   "id": "2d442eb0",
   "metadata": {},
   "outputs": [
    {
     "data": {
      "text/plain": [
       "array([[1.00000000e+00, 5.49905490e+02, 2.71197011e+02],\n",
       "       [2.00000000e+00, 4.54554785e+02, 3.11470282e+02],\n",
       "       [3.00000000e+00, 4.91395739e+02, 2.81839714e+02],\n",
       "       ...,\n",
       "       [9.99800000e+03, 5.15537690e+02, 2.88405301e+02],\n",
       "       [9.99900000e+03, 5.38228195e+02, 2.79702634e+02],\n",
       "       [1.00000000e+04, 4.98672332e+02, 2.96631141e+02]])"
      ]
     },
     "execution_count": 6,
     "metadata": {},
     "output_type": "execute_result"
    }
   ],
   "source": [
    "a4 = np.vstack([a3, a1, a2]).T\n",
    "a4"
   ]
  },
  {
   "cell_type": "code",
   "execution_count": 7,
   "id": "46f0bc6b",
   "metadata": {},
   "outputs": [],
   "source": [
    "a = a4[a4[..., 2] < 250]"
   ]
  },
  {
   "cell_type": "code",
   "execution_count": 8,
   "id": "6f30f558",
   "metadata": {},
   "outputs": [],
   "source": [
    "np.savetxt('output.txt', a, delimiter='\\t', fmt='%.2f')"
   ]
  },
  {
   "cell_type": "code",
   "execution_count": null,
   "id": "94db56d0",
   "metadata": {},
   "outputs": [],
   "source": []
  }
 ],
 "metadata": {
  "kernelspec": {
   "display_name": "Python 3 (ipykernel)",
   "language": "python",
   "name": "python3"
  },
  "language_info": {
   "codemirror_mode": {
    "name": "ipython",
    "version": 3
   },
   "file_extension": ".py",
   "mimetype": "text/x-python",
   "name": "python",
   "nbconvert_exporter": "python",
   "pygments_lexer": "ipython3",
   "version": "3.10.7"
  }
 },
 "nbformat": 4,
 "nbformat_minor": 5
}
