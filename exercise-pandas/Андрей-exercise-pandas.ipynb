{
 "cells": [
  {
   "cell_type": "code",
   "execution_count": 1,
   "id": "c07e3ddc",
   "metadata": {},
   "outputs": [],
   "source": [
    "import pandas as pd"
   ]
  },
  {
   "cell_type": "markdown",
   "id": "c656ea8a",
   "metadata": {},
   "source": [
    "# Задание 1-2"
   ]
  },
  {
   "cell_type": "code",
   "execution_count": 2,
   "id": "73e42807",
   "metadata": {},
   "outputs": [],
   "source": [
    "text_df = pd.read_csv('text.csv')\n",
    "vocab_df = pd.read_csv('vocab.csv')"
   ]
  },
  {
   "cell_type": "markdown",
   "id": "46fd87be",
   "metadata": {},
   "source": [
    "# Задание 3"
   ]
  },
  {
   "cell_type": "code",
   "execution_count": 3,
   "id": "e99bc312",
   "metadata": {},
   "outputs": [
    {
     "data": {
      "text/html": [
       "<div>\n",
       "<style scoped>\n",
       "    .dataframe tbody tr th:only-of-type {\n",
       "        vertical-align: middle;\n",
       "    }\n",
       "\n",
       "    .dataframe tbody tr th {\n",
       "        vertical-align: top;\n",
       "    }\n",
       "\n",
       "    .dataframe thead th {\n",
       "        text-align: right;\n",
       "    }\n",
       "</style>\n",
       "<table border=\"1\" class=\"dataframe\">\n",
       "  <thead>\n",
       "    <tr style=\"text-align: right;\">\n",
       "      <th></th>\n",
       "      <th>WORDNO</th>\n",
       "      <th>WORD</th>\n",
       "      <th>POS</th>\n",
       "    </tr>\n",
       "  </thead>\n",
       "  <tbody>\n",
       "    <tr>\n",
       "      <th>0</th>\n",
       "      <td>1</td>\n",
       "      <td>katekizmas</td>\n",
       "      <td>NaN</td>\n",
       "    </tr>\n",
       "    <tr>\n",
       "      <th>1</th>\n",
       "      <td>2</td>\n",
       "      <td>arba</td>\n",
       "      <td>KO</td>\n",
       "    </tr>\n",
       "    <tr>\n",
       "      <th>2</th>\n",
       "      <td>3</td>\n",
       "      <td>mokslas</td>\n",
       "      <td>NaN</td>\n",
       "    </tr>\n",
       "    <tr>\n",
       "      <th>3</th>\n",
       "      <td>4</td>\n",
       "      <td>kiekvienam</td>\n",
       "      <td>PI</td>\n",
       "    </tr>\n",
       "    <tr>\n",
       "      <th>4</th>\n",
       "      <td>5</td>\n",
       "      <td>krikščioniui</td>\n",
       "      <td>NaN</td>\n",
       "    </tr>\n",
       "    <tr>\n",
       "      <th>...</th>\n",
       "      <td>...</td>\n",
       "      <td>...</td>\n",
       "      <td>...</td>\n",
       "    </tr>\n",
       "    <tr>\n",
       "      <th>19417</th>\n",
       "      <td>16576</td>\n",
       "      <td>amžių</td>\n",
       "      <td>NaN</td>\n",
       "    </tr>\n",
       "    <tr>\n",
       "      <th>19418</th>\n",
       "      <td>16577</td>\n",
       "      <td>amžinų</td>\n",
       "      <td>ADJ</td>\n",
       "    </tr>\n",
       "    <tr>\n",
       "      <th>19419</th>\n",
       "      <td>16578</td>\n",
       "      <td>,</td>\n",
       "      <td>-</td>\n",
       "    </tr>\n",
       "    <tr>\n",
       "      <th>19420</th>\n",
       "      <td>16579</td>\n",
       "      <td>amen</td>\n",
       "      <td>PTK</td>\n",
       "    </tr>\n",
       "    <tr>\n",
       "      <th>19421</th>\n",
       "      <td>16580</td>\n",
       "      <td>.</td>\n",
       "      <td>-</td>\n",
       "    </tr>\n",
       "  </tbody>\n",
       "</table>\n",
       "<p>19422 rows × 3 columns</p>\n",
       "</div>"
      ],
      "text/plain": [
       "       WORDNO          WORD  POS\n",
       "0           1    katekizmas  NaN\n",
       "1           2          arba   KO\n",
       "2           3       mokslas  NaN\n",
       "3           4    kiekvienam   PI\n",
       "4           5  krikščioniui  NaN\n",
       "...       ...           ...  ...\n",
       "19417   16576         amžių  NaN\n",
       "19418   16577        amžinų  ADJ\n",
       "19419   16578             ,    -\n",
       "19420   16579          amen  PTK\n",
       "19421   16580             .    -\n",
       "\n",
       "[19422 rows x 3 columns]"
      ]
     },
     "execution_count": 3,
     "metadata": {},
     "output_type": "execute_result"
    }
   ],
   "source": [
    "merged_df = pd.merge(text_df, vocab_df, on='WORD', how='left')\n",
    "merged_df"
   ]
  },
  {
   "cell_type": "markdown",
   "id": "62748b10",
   "metadata": {},
   "source": [
    "# Задание 4"
   ]
  },
  {
   "cell_type": "code",
   "execution_count": 4,
   "id": "08a04f03",
   "metadata": {},
   "outputs": [
    {
     "data": {
      "text/html": [
       "<div>\n",
       "<style scoped>\n",
       "    .dataframe tbody tr th:only-of-type {\n",
       "        vertical-align: middle;\n",
       "    }\n",
       "\n",
       "    .dataframe tbody tr th {\n",
       "        vertical-align: top;\n",
       "    }\n",
       "\n",
       "    .dataframe thead th {\n",
       "        text-align: right;\n",
       "    }\n",
       "</style>\n",
       "<table border=\"1\" class=\"dataframe\">\n",
       "  <thead>\n",
       "    <tr style=\"text-align: right;\">\n",
       "      <th></th>\n",
       "      <th>WORDNO</th>\n",
       "      <th>WORD</th>\n",
       "      <th>POS</th>\n",
       "    </tr>\n",
       "  </thead>\n",
       "  <tbody>\n",
       "    <tr>\n",
       "      <th>9</th>\n",
       "      <td>10</td>\n",
       "      <td>Jokūbą</td>\n",
       "      <td>NT</td>\n",
       "    </tr>\n",
       "    <tr>\n",
       "      <th>12</th>\n",
       "      <td>13</td>\n",
       "      <td>societatis</td>\n",
       "      <td>-</td>\n",
       "    </tr>\n",
       "    <tr>\n",
       "      <th>13</th>\n",
       "      <td>14</td>\n",
       "      <td>Jesu</td>\n",
       "      <td>-</td>\n",
       "    </tr>\n",
       "    <tr>\n",
       "      <th>23</th>\n",
       "      <td>24</td>\n",
       "      <td>Mikalojų</td>\n",
       "      <td>NT</td>\n",
       "    </tr>\n",
       "    <tr>\n",
       "      <th>34</th>\n",
       "      <td>35</td>\n",
       "      <td>-</td>\n",
       "      <td>-</td>\n",
       "    </tr>\n",
       "    <tr>\n",
       "      <th>...</th>\n",
       "      <td>...</td>\n",
       "      <td>...</td>\n",
       "      <td>...</td>\n",
       "    </tr>\n",
       "    <tr>\n",
       "      <th>19259</th>\n",
       "      <td>16439</td>\n",
       "      <td>susimilęs</td>\n",
       "      <td>V</td>\n",
       "    </tr>\n",
       "    <tr>\n",
       "      <th>19277</th>\n",
       "      <td>16455</td>\n",
       "      <td>laimiai</td>\n",
       "      <td>ADV</td>\n",
       "    </tr>\n",
       "    <tr>\n",
       "      <th>19301</th>\n",
       "      <td>16476</td>\n",
       "      <td>tarnauti</td>\n",
       "      <td>V</td>\n",
       "    </tr>\n",
       "    <tr>\n",
       "      <th>19323</th>\n",
       "      <td>16492</td>\n",
       "      <td>ir</td>\n",
       "      <td>KO</td>\n",
       "    </tr>\n",
       "    <tr>\n",
       "      <th>19339</th>\n",
       "      <td>16505</td>\n",
       "      <td>perskirti</td>\n",
       "      <td>V</td>\n",
       "    </tr>\n",
       "  </tbody>\n",
       "</table>\n",
       "<p>1148 rows × 3 columns</p>\n",
       "</div>"
      ],
      "text/plain": [
       "       WORDNO        WORD  POS\n",
       "9          10      Jokūbą   NT\n",
       "12         13  societatis    -\n",
       "13         14        Jesu    -\n",
       "23         24    Mikalojų   NT\n",
       "34         35           -    -\n",
       "...       ...         ...  ...\n",
       "19259   16439   susimilęs    V\n",
       "19277   16455     laimiai  ADV\n",
       "19301   16476    tarnauti    V\n",
       "19323   16492          ir   KO\n",
       "19339   16505   perskirti    V\n",
       "\n",
       "[1148 rows x 3 columns]"
      ]
     },
     "execution_count": 4,
     "metadata": {},
     "output_type": "execute_result"
    }
   ],
   "source": [
    "two_eq_pos_inarow = merged_df[merged_df['POS']==merged_df.shift(-1)['POS']]\n",
    "two_eq_pos_inarow"
   ]
  },
  {
   "cell_type": "markdown",
   "id": "82354019",
   "metadata": {},
   "source": [
    "# Задание 5"
   ]
  },
  {
   "cell_type": "code",
   "execution_count": 5,
   "id": "3c0015b6",
   "metadata": {},
   "outputs": [],
   "source": [
    "groups = merged_df.groupby('POS')"
   ]
  },
  {
   "cell_type": "markdown",
   "id": "afaef050",
   "metadata": {},
   "source": [
    "# Задание 6"
   ]
  },
  {
   "cell_type": "code",
   "execution_count": 6,
   "id": "9c003138",
   "metadata": {},
   "outputs": [],
   "source": [
    "temp = []\n",
    "rolling_word_lengths = []\n",
    "for group in groups:\n",
    "    temp.append(len(group[1]))\n",
    "    # Вычисляем длины слов\n",
    "    group[1]['WORD_LENGTH'] = group[1]['WORD'].apply(lambda x: len(x))\n",
    "    # Устанавливаем размеры окна для скользящего среднего и размер выборки. \n",
    "    # Последнее необходимо для упрощения отрисовки картинки, иначе слишком долго. \n",
    "    # Такой объем выборки только в 8 раз меньше объема самой большой группы.\n",
    "    rolling_window = 5 if len(group[1]) >= 5 else len(group[1])\n",
    "    sample_volume = 500 if len(group[1]) >= 500 else len(group[1])\n",
    "    rolling_word_length = group[1]['WORD_LENGTH'].rolling(rolling_window).mean()\n",
    "    rolling_word_length = rolling_word_length.sample(sample_volume)\n",
    "    rolling_word_lengths.append(rolling_word_length.values.tolist())"
   ]
  },
  {
   "cell_type": "code",
   "execution_count": 7,
   "id": "d6f53e9f",
   "metadata": {},
   "outputs": [
    {
     "name": "stdout",
     "output_type": "stream",
     "text": [
      "[1, 1, 1, 1, 1, 1, 2, 2, 2, 2, 2, 3, 4, 5, 6, 7, 12, 13, 19, 22, 24, 27, 29, 37, 54, 88, 96, 98, 152, 226, 310, 392, 407, 542, 804, 813, 1116, 1206, 1552, 2007, 2440, 3982]\n"
     ]
    }
   ],
   "source": [
    "print(sorted(temp))"
   ]
  },
  {
   "cell_type": "code",
   "execution_count": 8,
   "id": "13300c7e",
   "metadata": {},
   "outputs": [],
   "source": [
    "roll_df = pd.DataFrame(rolling_word_lengths, index = [group[0] for group in groups])"
   ]
  },
  {
   "cell_type": "markdown",
   "id": "f2df4af9",
   "metadata": {},
   "source": [
    "# Задание 7"
   ]
  },
  {
   "cell_type": "code",
   "execution_count": 9,
   "id": "328812a7",
   "metadata": {},
   "outputs": [],
   "source": [
    "import matplotlib.pyplot as plt\n",
    "from matplotlib.pyplot import figure"
   ]
  },
  {
   "cell_type": "code",
   "execution_count": 10,
   "id": "50778780",
   "metadata": {},
   "outputs": [
    {
     "data": {
      "image/png": "[encoded data removed]",
      "text/plain": [
       "<Figure size 1440x720 with 1 Axes>"
      ]
     },
     "metadata": {
      "needs_background": "light"
     },
     "output_type": "display_data"
    }
   ],
   "source": [
    "figure(figsize=(20, 10))\n",
    "\n",
    "for i in roll_df.T:\n",
    "    plt.bar(i, roll_df.loc[i])\n",
    "\n",
    "plt.savefig('rolling_word_length.jpg')\n",
    "\n",
    "plt.show()"
   ]
  },
  {
   "cell_type": "markdown",
   "id": "75c16530",
   "metadata": {},
   "source": [
    "# Задание 8"
   ]
  },
  {
   "cell_type": "code",
   "execution_count": 11,
   "id": "5a3d39fd",
   "metadata": {},
   "outputs": [],
   "source": [
    "roll_df.to_html('rolling_word_lengths_grouped_by_pos.html')"
   ]
  }
 ],
 "metadata": {
  "kernelspec": {
   "display_name": "Python 3 (ipykernel)",
   "language": "python",
   "name": "python3"
  },
  "language_info": {
   "codemirror_mode": {
    "name": "ipython",
    "version": 3
   },
   "file_extension": ".py",
   "mimetype": "text/x-python",
   "name": "python",
   "nbconvert_exporter": "python",
   "pygments_lexer": "ipython3",
   "version": "3.10.5"
  }
 },
 "nbformat": 4,
 "nbformat_minor": 5
}
